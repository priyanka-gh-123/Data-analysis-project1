{
 "cells": [
  {
   "cell_type": "code",
   "execution_count": null,
   "id": "ee72336f-398f-480f-b614-317c024070be",
   "metadata": {},
   "outputs": [],
   "source": [
    "import pandas as pd\n",
    "from scipy.stats import skew, kurtosis\n",
    "\n",
    "# Load dataset\n",
    "df = pd.read_excel(\"C:/Users/ghada/OneDrive/Attachments/Data set (2).xlsx\")\n",
    "\n",
    "# Replace null values with mean\n",
    "df_filled = df.fillna(df.mean(numeric_only=True))\n",
    "\n",
    "# Central Tendency\n",
    "mean_values = df_filled.mean(numeric_only=True)\n",
    "median_values = df_filled.median(numeric_only=True)\n",
    "mode_values = df_filled.mode(numeric_only=True).iloc[0]\n",
    "\n",
    "# Measures of Dispersion\n",
    "variance_values = df_filled.var(numeric_only=True)\n",
    "std_dev_values = df_filled.std(numeric_only=True)\n",
    "range_values = df_filled.max(numeric_only=True) - df_filled.min(numeric_only=True)\n",
    "\n",
    "# Skewness and Kurtosis\n",
    "skewness_values = df_filled.select_dtypes(include='number').apply(skew)\n",
    "kurtosis_values = df_filled.select_dtypes(include='number').apply(kurtosis)\n",
    "\n",
    "# Summary DataFrame\n",
    "summary = pd.DataFrame({\n",
    "    'Mean': mean_values,\n",
    "    'Median': median_values,\n",
    "    'Mode': mode_values,\n",
    "    'Variance': variance_values,\n",
    "    'Std_Dev': std_dev_values,\n",
    "    'Range': range_values,\n",
    "    'Skewness': skewness_values,\n",
    "    'Kurtosis': kurtosis_values\n",
    "})\n",
    "\n",
    "# Round for better readability\n",
    "print(summary.round(3))"
   ]
  },
  {
   "cell_type": "code",
   "execution_count": null,
   "id": "9be9a95f-e1e7-49e6-b678-075ba937a14f",
   "metadata": {},
   "outputs": [],
   "source": []
  }
 ],
 "metadata": {
  "kernelspec": {
   "display_name": "Python 3 (ipykernel)",
   "language": "python",
   "name": "python3"
  },
  "language_info": {
   "codemirror_mode": {
    "name": "ipython",
    "version": 3
   },
   "file_extension": ".py",
   "mimetype": "text/x-python",
   "name": "python",
   "nbconvert_exporter": "python",
   "pygments_lexer": "ipython3",
   "version": "3.13.1"
  }
 },
 "nbformat": 4,
 "nbformat_minor": 5
}
